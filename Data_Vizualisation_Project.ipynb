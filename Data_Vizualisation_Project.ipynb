{
  "nbformat": 4,
  "nbformat_minor": 0,
  "metadata": {
    "colab": {
      "name": "Data_Vizualisation_Project.ipynb",
      "provenance": [],
      "collapsed_sections": [],
      "include_colab_link": true
    },
    "kernelspec": {
      "display_name": "Python 3",
      "name": "python3"
    },
    "language_info": {
      "name": "python"
    }
  },
  "cells": [
    {
      "cell_type": "markdown",
      "metadata": {
        "id": "view-in-github",
        "colab_type": "text"
      },
      "source": [
        "<a href=\"https://colab.research.google.com/github/Denniskag/Data_Visualisation/blob/main/Data_Vizualisation_Project.ipynb\" target=\"_parent\"><img src=\"https://colab.research.google.com/assets/colab-badge.svg\" alt=\"Open In Colab\"/></a>"
      ]
    },
    {
      "cell_type": "markdown",
      "metadata": {
        "id": "-XS7-vKh3IeB"
      },
      "source": [
        "#Introduction\n",
        "\n",
        "In this tutorial, we shall analyze the Top 250 Football transfers from 2000 to 2018 [dataset](https://https://www.kaggle.com/vardan95ghazaryan/top-250-football-transfers-from-2000-to-2018) from Kaggle. The dataset set shows the name, age, position, transfer fees among others of various players.\n",
        "\n"
      ]
    },
    {
      "cell_type": "markdown",
      "metadata": {
        "id": "5XYEnFnm5zqp"
      },
      "source": [
        "#Importing dataset"
      ]
    },
    {
      "cell_type": "code",
      "metadata": {
        "colab": {
          "base_uri": "https://localhost:8080/"
        },
        "id": "EnHIhGbWxYfZ",
        "outputId": "fdcdcb79-25b0-40de-c94d-282262e3525b"
      },
      "source": [
        "pip install opendatasets --upgrade"
      ],
      "execution_count": null,
      "outputs": [
        {
          "output_type": "stream",
          "name": "stdout",
          "text": [
            "Collecting opendatasets\n",
            "  Downloading opendatasets-0.1.20-py3-none-any.whl (14 kB)\n",
            "Requirement already satisfied: click in /usr/local/lib/python3.7/dist-packages (from opendatasets) (7.1.2)\n",
            "Requirement already satisfied: tqdm in /usr/local/lib/python3.7/dist-packages (from opendatasets) (4.62.3)\n",
            "Requirement already satisfied: kaggle in /usr/local/lib/python3.7/dist-packages (from opendatasets) (1.5.12)\n",
            "Requirement already satisfied: six>=1.10 in /usr/local/lib/python3.7/dist-packages (from kaggle->opendatasets) (1.15.0)\n",
            "Requirement already satisfied: python-dateutil in /usr/local/lib/python3.7/dist-packages (from kaggle->opendatasets) (2.8.2)\n",
            "Requirement already satisfied: certifi in /usr/local/lib/python3.7/dist-packages (from kaggle->opendatasets) (2021.5.30)\n",
            "Requirement already satisfied: urllib3 in /usr/local/lib/python3.7/dist-packages (from kaggle->opendatasets) (1.24.3)\n",
            "Requirement already satisfied: python-slugify in /usr/local/lib/python3.7/dist-packages (from kaggle->opendatasets) (5.0.2)\n",
            "Requirement already satisfied: requests in /usr/local/lib/python3.7/dist-packages (from kaggle->opendatasets) (2.23.0)\n",
            "Requirement already satisfied: text-unidecode>=1.3 in /usr/local/lib/python3.7/dist-packages (from python-slugify->kaggle->opendatasets) (1.3)\n",
            "Requirement already satisfied: idna<3,>=2.5 in /usr/local/lib/python3.7/dist-packages (from requests->kaggle->opendatasets) (2.10)\n",
            "Requirement already satisfied: chardet<4,>=3.0.2 in /usr/local/lib/python3.7/dist-packages (from requests->kaggle->opendatasets) (3.0.4)\n",
            "Installing collected packages: opendatasets\n",
            "Successfully installed opendatasets-0.1.20\n"
          ]
        }
      ]
    },
    {
      "cell_type": "code",
      "metadata": {
        "id": "mx7sHjEYwoQl"
      },
      "source": [
        "import opendatasets as od"
      ],
      "execution_count": null,
      "outputs": []
    },
    {
      "cell_type": "code",
      "metadata": {
        "colab": {
          "base_uri": "https://localhost:8080/"
        },
        "id": "kMsIv1aww8G9",
        "outputId": "3fb99548-8611-47f1-9f3a-01d4bd06d87f"
      },
      "source": [
        "od.download('https://www.kaggle.com/vardan95ghazaryan/top-250-football-transfers-from-2000-to-2018')"
      ],
      "execution_count": null,
      "outputs": [
        {
          "output_type": "stream",
          "name": "stdout",
          "text": [
            "Please provide your Kaggle credentials to download this dataset. Learn more: http://bit.ly/kaggle-creds\n",
            "Your Kaggle username: denniskag\n",
            "Your Kaggle Key: ··········\n",
            "Downloading top-250-football-transfers-from-2000-to-2018.zip to ./top-250-football-transfers-from-2000-to-2018\n"
          ]
        },
        {
          "output_type": "stream",
          "name": "stderr",
          "text": [
            "100%|██████████| 107k/107k [00:00<00:00, 28.7MB/s]"
          ]
        },
        {
          "output_type": "stream",
          "name": "stdout",
          "text": [
            "\n"
          ]
        },
        {
          "output_type": "stream",
          "name": "stderr",
          "text": [
            "\n"
          ]
        }
      ]
    },
    {
      "cell_type": "code",
      "metadata": {
        "id": "9sP57PhTyZ4n"
      },
      "source": [
        "import pandas as pd"
      ],
      "execution_count": null,
      "outputs": []
    },
    {
      "cell_type": "code",
      "metadata": {
        "id": "rnobHRetxt7T"
      },
      "source": [
        "transfers_df = pd.read_csv('/content/top-250-football-transfers-from-2000-to-2018/top250-00-19.csv')"
      ],
      "execution_count": null,
      "outputs": []
    },
    {
      "cell_type": "code",
      "metadata": {
        "colab": {
          "base_uri": "https://localhost:8080/",
          "height": 617
        },
        "id": "jLgSSNCax5hN",
        "outputId": "f11e1a1d-6053-47c7-b46e-74722fac65e6"
      },
      "source": [
        "transfers_df"
      ],
      "execution_count": null,
      "outputs": [
        {
          "output_type": "execute_result",
          "data": {
            "text/html": [
              "<div>\n",
              "<style scoped>\n",
              "    .dataframe tbody tr th:only-of-type {\n",
              "        vertical-align: middle;\n",
              "    }\n",
              "\n",
              "    .dataframe tbody tr th {\n",
              "        vertical-align: top;\n",
              "    }\n",
              "\n",
              "    .dataframe thead th {\n",
              "        text-align: right;\n",
              "    }\n",
              "</style>\n",
              "<table border=\"1\" class=\"dataframe\">\n",
              "  <thead>\n",
              "    <tr style=\"text-align: right;\">\n",
              "      <th></th>\n",
              "      <th>Name</th>\n",
              "      <th>Position</th>\n",
              "      <th>Age</th>\n",
              "      <th>Team_from</th>\n",
              "      <th>League_from</th>\n",
              "      <th>Team_to</th>\n",
              "      <th>League_to</th>\n",
              "      <th>Season</th>\n",
              "      <th>Market_value</th>\n",
              "      <th>Transfer_fee</th>\n",
              "    </tr>\n",
              "  </thead>\n",
              "  <tbody>\n",
              "    <tr>\n",
              "      <th>0</th>\n",
              "      <td>Luís Figo</td>\n",
              "      <td>Right Winger</td>\n",
              "      <td>27</td>\n",
              "      <td>FC Barcelona</td>\n",
              "      <td>LaLiga</td>\n",
              "      <td>Real Madrid</td>\n",
              "      <td>LaLiga</td>\n",
              "      <td>2000-2001</td>\n",
              "      <td>NaN</td>\n",
              "      <td>60000000</td>\n",
              "    </tr>\n",
              "    <tr>\n",
              "      <th>1</th>\n",
              "      <td>Hernán Crespo</td>\n",
              "      <td>Centre-Forward</td>\n",
              "      <td>25</td>\n",
              "      <td>Parma</td>\n",
              "      <td>Serie A</td>\n",
              "      <td>Lazio</td>\n",
              "      <td>Serie A</td>\n",
              "      <td>2000-2001</td>\n",
              "      <td>NaN</td>\n",
              "      <td>56810000</td>\n",
              "    </tr>\n",
              "    <tr>\n",
              "      <th>2</th>\n",
              "      <td>Marc Overmars</td>\n",
              "      <td>Left Winger</td>\n",
              "      <td>27</td>\n",
              "      <td>Arsenal</td>\n",
              "      <td>Premier League</td>\n",
              "      <td>FC Barcelona</td>\n",
              "      <td>LaLiga</td>\n",
              "      <td>2000-2001</td>\n",
              "      <td>NaN</td>\n",
              "      <td>40000000</td>\n",
              "    </tr>\n",
              "    <tr>\n",
              "      <th>3</th>\n",
              "      <td>Gabriel Batistuta</td>\n",
              "      <td>Centre-Forward</td>\n",
              "      <td>31</td>\n",
              "      <td>Fiorentina</td>\n",
              "      <td>Serie A</td>\n",
              "      <td>AS Roma</td>\n",
              "      <td>Serie A</td>\n",
              "      <td>2000-2001</td>\n",
              "      <td>NaN</td>\n",
              "      <td>36150000</td>\n",
              "    </tr>\n",
              "    <tr>\n",
              "      <th>4</th>\n",
              "      <td>Nicolas Anelka</td>\n",
              "      <td>Centre-Forward</td>\n",
              "      <td>21</td>\n",
              "      <td>Real Madrid</td>\n",
              "      <td>LaLiga</td>\n",
              "      <td>Paris SG</td>\n",
              "      <td>Ligue 1</td>\n",
              "      <td>2000-2001</td>\n",
              "      <td>NaN</td>\n",
              "      <td>34500000</td>\n",
              "    </tr>\n",
              "    <tr>\n",
              "      <th>...</th>\n",
              "      <td>...</td>\n",
              "      <td>...</td>\n",
              "      <td>...</td>\n",
              "      <td>...</td>\n",
              "      <td>...</td>\n",
              "      <td>...</td>\n",
              "      <td>...</td>\n",
              "      <td>...</td>\n",
              "      <td>...</td>\n",
              "      <td>...</td>\n",
              "    </tr>\n",
              "    <tr>\n",
              "      <th>4695</th>\n",
              "      <td>Jasmin Kurtic</td>\n",
              "      <td>Attacking Midfield</td>\n",
              "      <td>29</td>\n",
              "      <td>Atalanta</td>\n",
              "      <td>Serie A</td>\n",
              "      <td>SPAL</td>\n",
              "      <td>Serie A</td>\n",
              "      <td>2018-2019</td>\n",
              "      <td>5000000.0</td>\n",
              "      <td>4800000</td>\n",
              "    </tr>\n",
              "    <tr>\n",
              "      <th>4696</th>\n",
              "      <td>Tchê Tchê</td>\n",
              "      <td>Central Midfield</td>\n",
              "      <td>25</td>\n",
              "      <td>Palmeiras</td>\n",
              "      <td>Série A</td>\n",
              "      <td>Dynamo Kyiv</td>\n",
              "      <td>Premier Liga</td>\n",
              "      <td>2018-2019</td>\n",
              "      <td>3000000.0</td>\n",
              "      <td>4800000</td>\n",
              "    </tr>\n",
              "    <tr>\n",
              "      <th>4697</th>\n",
              "      <td>Silvan Widmer</td>\n",
              "      <td>Right-Back</td>\n",
              "      <td>25</td>\n",
              "      <td>Udinese Calcio</td>\n",
              "      <td>Serie A</td>\n",
              "      <td>FC Basel</td>\n",
              "      <td>Super League</td>\n",
              "      <td>2018-2019</td>\n",
              "      <td>8500000.0</td>\n",
              "      <td>4500000</td>\n",
              "    </tr>\n",
              "    <tr>\n",
              "      <th>4698</th>\n",
              "      <td>Yuya Osako</td>\n",
              "      <td>Second Striker</td>\n",
              "      <td>28</td>\n",
              "      <td>1. FC Köln</td>\n",
              "      <td>2.Bundesliga</td>\n",
              "      <td>Werder Bremen</td>\n",
              "      <td>1.Bundesliga</td>\n",
              "      <td>2018-2019</td>\n",
              "      <td>4500000.0</td>\n",
              "      <td>4500000</td>\n",
              "    </tr>\n",
              "    <tr>\n",
              "      <th>4699</th>\n",
              "      <td>Kyle Bartley</td>\n",
              "      <td>Centre-Back</td>\n",
              "      <td>27</td>\n",
              "      <td>Swansea</td>\n",
              "      <td>Championship</td>\n",
              "      <td>West Brom</td>\n",
              "      <td>Championship</td>\n",
              "      <td>2018-2019</td>\n",
              "      <td>3500000.0</td>\n",
              "      <td>4500000</td>\n",
              "    </tr>\n",
              "  </tbody>\n",
              "</table>\n",
              "<p>4700 rows × 10 columns</p>\n",
              "</div>"
            ],
            "text/plain": [
              "                   Name            Position  ...  Market_value Transfer_fee\n",
              "0             Luís Figo        Right Winger  ...           NaN     60000000\n",
              "1         Hernán Crespo      Centre-Forward  ...           NaN     56810000\n",
              "2         Marc Overmars         Left Winger  ...           NaN     40000000\n",
              "3     Gabriel Batistuta      Centre-Forward  ...           NaN     36150000\n",
              "4        Nicolas Anelka      Centre-Forward  ...           NaN     34500000\n",
              "...                 ...                 ...  ...           ...          ...\n",
              "4695      Jasmin Kurtic  Attacking Midfield  ...     5000000.0      4800000\n",
              "4696          Tchê Tchê    Central Midfield  ...     3000000.0      4800000\n",
              "4697      Silvan Widmer          Right-Back  ...     8500000.0      4500000\n",
              "4698         Yuya Osako      Second Striker  ...     4500000.0      4500000\n",
              "4699       Kyle Bartley         Centre-Back  ...     3500000.0      4500000\n",
              "\n",
              "[4700 rows x 10 columns]"
            ]
          },
          "metadata": {},
          "execution_count": 11
        }
      ]
    },
    {
      "cell_type": "code",
      "metadata": {
        "colab": {
          "base_uri": "https://localhost:8080/"
        },
        "id": "cViabZL-2Aqo",
        "outputId": "7aec9494-d5b8-4f20-946b-6c7a047d39bc"
      },
      "source": [
        "transfers_df.shape"
      ],
      "execution_count": null,
      "outputs": [
        {
          "output_type": "execute_result",
          "data": {
            "text/plain": [
              "(4700, 10)"
            ]
          },
          "metadata": {},
          "execution_count": 12
        }
      ]
    },
    {
      "cell_type": "code",
      "metadata": {
        "colab": {
          "base_uri": "https://localhost:8080/"
        },
        "id": "lbzEWzHnzA2F",
        "outputId": "a98261f2-5ef0-4b42-a095-b47cf380ded1"
      },
      "source": [
        "transfers_df.columns"
      ],
      "execution_count": null,
      "outputs": [
        {
          "output_type": "execute_result",
          "data": {
            "text/plain": [
              "Index(['Name', 'Position', 'Age', 'Team_from', 'League_from', 'Team_to',\n",
              "       'League_to', 'Season', 'Market_value', 'Transfer_fee'],\n",
              "      dtype='object')"
            ]
          },
          "metadata": {},
          "execution_count": 13
        }
      ]
    },
    {
      "cell_type": "code",
      "metadata": {
        "colab": {
          "base_uri": "https://localhost:8080/"
        },
        "id": "86B3b4jQ16om",
        "outputId": "2b413d4e-6ce6-409b-9ac7-c8a613dd0076"
      },
      "source": [
        "transfers_df.info()"
      ],
      "execution_count": null,
      "outputs": [
        {
          "output_type": "stream",
          "name": "stdout",
          "text": [
            "<class 'pandas.core.frame.DataFrame'>\n",
            "RangeIndex: 4700 entries, 0 to 4699\n",
            "Data columns (total 10 columns):\n",
            " #   Column        Non-Null Count  Dtype  \n",
            "---  ------        --------------  -----  \n",
            " 0   Name          4700 non-null   object \n",
            " 1   Position      4700 non-null   object \n",
            " 2   Age           4700 non-null   int64  \n",
            " 3   Team_from     4700 non-null   object \n",
            " 4   League_from   4700 non-null   object \n",
            " 5   Team_to       4700 non-null   object \n",
            " 6   League_to     4700 non-null   object \n",
            " 7   Season        4700 non-null   object \n",
            " 8   Market_value  3440 non-null   float64\n",
            " 9   Transfer_fee  4700 non-null   int64  \n",
            "dtypes: float64(1), int64(2), object(7)\n",
            "memory usage: 367.3+ KB\n"
          ]
        }
      ]
    },
    {
      "cell_type": "markdown",
      "metadata": {
        "id": "f5V--aNlzmUH"
      },
      "source": [
        "## Data Preparation & Cleaning\n",
        "In this section, we shall deal with all null values and make sure there no more mising values"
      ]
    },
    {
      "cell_type": "code",
      "metadata": {
        "colab": {
          "base_uri": "https://localhost:8080/"
        },
        "id": "iSWxFlIfzHt5",
        "outputId": "0a13f1b6-34e9-4aee-f00b-b2ed29217aa8"
      },
      "source": [
        "transfers_df.isnull().sum()"
      ],
      "execution_count": null,
      "outputs": [
        {
          "output_type": "execute_result",
          "data": {
            "text/plain": [
              "Name               0\n",
              "Position           0\n",
              "Age                0\n",
              "Team_from          0\n",
              "League_from        0\n",
              "Team_to            0\n",
              "League_to          0\n",
              "Season             0\n",
              "Market_value    1260\n",
              "Transfer_fee       0\n",
              "dtype: int64"
            ]
          },
          "metadata": {},
          "execution_count": 15
        }
      ]
    },
    {
      "cell_type": "code",
      "metadata": {
        "id": "Vgr8qiXX7dgn"
      },
      "source": [
        "transfers_df['Market_value'].fillna(value = transfers_df['Market_value'].mean(), inplace= True)"
      ],
      "execution_count": null,
      "outputs": []
    },
    {
      "cell_type": "code",
      "metadata": {
        "colab": {
          "base_uri": "https://localhost:8080/"
        },
        "id": "mf3PVSrk-V-M",
        "outputId": "e33636ce-ff7a-49e8-ee3f-d6a877454c0f"
      },
      "source": [
        "transfers_df.isnull().sum()"
      ],
      "execution_count": null,
      "outputs": [
        {
          "output_type": "execute_result",
          "data": {
            "text/plain": [
              "Name            0\n",
              "Position        0\n",
              "Age             0\n",
              "Team_from       0\n",
              "League_from     0\n",
              "Team_to         0\n",
              "League_to       0\n",
              "Season          0\n",
              "Market_value    0\n",
              "Transfer_fee    0\n",
              "dtype: int64"
            ]
          },
          "metadata": {},
          "execution_count": 17
        }
      ]
    },
    {
      "cell_type": "code",
      "metadata": {
        "colab": {
          "base_uri": "https://localhost:8080/",
          "height": 617
        },
        "id": "vu85kQ8t-bAJ",
        "outputId": "95866535-befc-4cd9-a618-d466d7042865"
      },
      "source": [
        "transfers_df"
      ],
      "execution_count": null,
      "outputs": [
        {
          "output_type": "execute_result",
          "data": {
            "text/html": [
              "<div>\n",
              "<style scoped>\n",
              "    .dataframe tbody tr th:only-of-type {\n",
              "        vertical-align: middle;\n",
              "    }\n",
              "\n",
              "    .dataframe tbody tr th {\n",
              "        vertical-align: top;\n",
              "    }\n",
              "\n",
              "    .dataframe thead th {\n",
              "        text-align: right;\n",
              "    }\n",
              "</style>\n",
              "<table border=\"1\" class=\"dataframe\">\n",
              "  <thead>\n",
              "    <tr style=\"text-align: right;\">\n",
              "      <th></th>\n",
              "      <th>Name</th>\n",
              "      <th>Position</th>\n",
              "      <th>Age</th>\n",
              "      <th>Team_from</th>\n",
              "      <th>League_from</th>\n",
              "      <th>Team_to</th>\n",
              "      <th>League_to</th>\n",
              "      <th>Season</th>\n",
              "      <th>Market_value</th>\n",
              "      <th>Transfer_fee</th>\n",
              "    </tr>\n",
              "  </thead>\n",
              "  <tbody>\n",
              "    <tr>\n",
              "      <th>0</th>\n",
              "      <td>Luís Figo</td>\n",
              "      <td>Right Winger</td>\n",
              "      <td>27</td>\n",
              "      <td>FC Barcelona</td>\n",
              "      <td>LaLiga</td>\n",
              "      <td>Real Madrid</td>\n",
              "      <td>LaLiga</td>\n",
              "      <td>2000-2001</td>\n",
              "      <td>8.622469e+06</td>\n",
              "      <td>60000000</td>\n",
              "    </tr>\n",
              "    <tr>\n",
              "      <th>1</th>\n",
              "      <td>Hernán Crespo</td>\n",
              "      <td>Centre-Forward</td>\n",
              "      <td>25</td>\n",
              "      <td>Parma</td>\n",
              "      <td>Serie A</td>\n",
              "      <td>Lazio</td>\n",
              "      <td>Serie A</td>\n",
              "      <td>2000-2001</td>\n",
              "      <td>8.622469e+06</td>\n",
              "      <td>56810000</td>\n",
              "    </tr>\n",
              "    <tr>\n",
              "      <th>2</th>\n",
              "      <td>Marc Overmars</td>\n",
              "      <td>Left Winger</td>\n",
              "      <td>27</td>\n",
              "      <td>Arsenal</td>\n",
              "      <td>Premier League</td>\n",
              "      <td>FC Barcelona</td>\n",
              "      <td>LaLiga</td>\n",
              "      <td>2000-2001</td>\n",
              "      <td>8.622469e+06</td>\n",
              "      <td>40000000</td>\n",
              "    </tr>\n",
              "    <tr>\n",
              "      <th>3</th>\n",
              "      <td>Gabriel Batistuta</td>\n",
              "      <td>Centre-Forward</td>\n",
              "      <td>31</td>\n",
              "      <td>Fiorentina</td>\n",
              "      <td>Serie A</td>\n",
              "      <td>AS Roma</td>\n",
              "      <td>Serie A</td>\n",
              "      <td>2000-2001</td>\n",
              "      <td>8.622469e+06</td>\n",
              "      <td>36150000</td>\n",
              "    </tr>\n",
              "    <tr>\n",
              "      <th>4</th>\n",
              "      <td>Nicolas Anelka</td>\n",
              "      <td>Centre-Forward</td>\n",
              "      <td>21</td>\n",
              "      <td>Real Madrid</td>\n",
              "      <td>LaLiga</td>\n",
              "      <td>Paris SG</td>\n",
              "      <td>Ligue 1</td>\n",
              "      <td>2000-2001</td>\n",
              "      <td>8.622469e+06</td>\n",
              "      <td>34500000</td>\n",
              "    </tr>\n",
              "    <tr>\n",
              "      <th>...</th>\n",
              "      <td>...</td>\n",
              "      <td>...</td>\n",
              "      <td>...</td>\n",
              "      <td>...</td>\n",
              "      <td>...</td>\n",
              "      <td>...</td>\n",
              "      <td>...</td>\n",
              "      <td>...</td>\n",
              "      <td>...</td>\n",
              "      <td>...</td>\n",
              "    </tr>\n",
              "    <tr>\n",
              "      <th>4695</th>\n",
              "      <td>Jasmin Kurtic</td>\n",
              "      <td>Attacking Midfield</td>\n",
              "      <td>29</td>\n",
              "      <td>Atalanta</td>\n",
              "      <td>Serie A</td>\n",
              "      <td>SPAL</td>\n",
              "      <td>Serie A</td>\n",
              "      <td>2018-2019</td>\n",
              "      <td>5.000000e+06</td>\n",
              "      <td>4800000</td>\n",
              "    </tr>\n",
              "    <tr>\n",
              "      <th>4696</th>\n",
              "      <td>Tchê Tchê</td>\n",
              "      <td>Central Midfield</td>\n",
              "      <td>25</td>\n",
              "      <td>Palmeiras</td>\n",
              "      <td>Série A</td>\n",
              "      <td>Dynamo Kyiv</td>\n",
              "      <td>Premier Liga</td>\n",
              "      <td>2018-2019</td>\n",
              "      <td>3.000000e+06</td>\n",
              "      <td>4800000</td>\n",
              "    </tr>\n",
              "    <tr>\n",
              "      <th>4697</th>\n",
              "      <td>Silvan Widmer</td>\n",
              "      <td>Right-Back</td>\n",
              "      <td>25</td>\n",
              "      <td>Udinese Calcio</td>\n",
              "      <td>Serie A</td>\n",
              "      <td>FC Basel</td>\n",
              "      <td>Super League</td>\n",
              "      <td>2018-2019</td>\n",
              "      <td>8.500000e+06</td>\n",
              "      <td>4500000</td>\n",
              "    </tr>\n",
              "    <tr>\n",
              "      <th>4698</th>\n",
              "      <td>Yuya Osako</td>\n",
              "      <td>Second Striker</td>\n",
              "      <td>28</td>\n",
              "      <td>1. FC Köln</td>\n",
              "      <td>2.Bundesliga</td>\n",
              "      <td>Werder Bremen</td>\n",
              "      <td>1.Bundesliga</td>\n",
              "      <td>2018-2019</td>\n",
              "      <td>4.500000e+06</td>\n",
              "      <td>4500000</td>\n",
              "    </tr>\n",
              "    <tr>\n",
              "      <th>4699</th>\n",
              "      <td>Kyle Bartley</td>\n",
              "      <td>Centre-Back</td>\n",
              "      <td>27</td>\n",
              "      <td>Swansea</td>\n",
              "      <td>Championship</td>\n",
              "      <td>West Brom</td>\n",
              "      <td>Championship</td>\n",
              "      <td>2018-2019</td>\n",
              "      <td>3.500000e+06</td>\n",
              "      <td>4500000</td>\n",
              "    </tr>\n",
              "  </tbody>\n",
              "</table>\n",
              "<p>4700 rows × 10 columns</p>\n",
              "</div>"
            ],
            "text/plain": [
              "                   Name            Position  ...  Market_value Transfer_fee\n",
              "0             Luís Figo        Right Winger  ...  8.622469e+06     60000000\n",
              "1         Hernán Crespo      Centre-Forward  ...  8.622469e+06     56810000\n",
              "2         Marc Overmars         Left Winger  ...  8.622469e+06     40000000\n",
              "3     Gabriel Batistuta      Centre-Forward  ...  8.622469e+06     36150000\n",
              "4        Nicolas Anelka      Centre-Forward  ...  8.622469e+06     34500000\n",
              "...                 ...                 ...  ...           ...          ...\n",
              "4695      Jasmin Kurtic  Attacking Midfield  ...  5.000000e+06      4800000\n",
              "4696          Tchê Tchê    Central Midfield  ...  3.000000e+06      4800000\n",
              "4697      Silvan Widmer          Right-Back  ...  8.500000e+06      4500000\n",
              "4698         Yuya Osako      Second Striker  ...  4.500000e+06      4500000\n",
              "4699       Kyle Bartley         Centre-Back  ...  3.500000e+06      4500000\n",
              "\n",
              "[4700 rows x 10 columns]"
            ]
          },
          "metadata": {},
          "execution_count": 18
        }
      ]
    },
    {
      "cell_type": "markdown",
      "metadata": {
        "id": "UmIz7DKX2-cx"
      },
      "source": [
        "##Exploratory Analysis and Visualization\n",
        "In this section, we shall ask questions and answer them using visualization"
      ]
    },
    {
      "cell_type": "code",
      "metadata": {
        "id": "0wcJdCcu-3RY"
      },
      "source": [
        "import matplotlib.pyplot as plt\n",
        "import seaborn as sns\n",
        "import numpy as np\n",
        "%matplotlib inline"
      ],
      "execution_count": null,
      "outputs": []
    },
    {
      "cell_type": "markdown",
      "metadata": {
        "id": "ENYQkSF8ODqX"
      },
      "source": [
        "\n",
        "From which leagues are players bought the most?"
      ]
    },
    {
      "cell_type": "code",
      "metadata": {
        "colab": {
          "base_uri": "https://localhost:8080/"
        },
        "id": "UNeOdfAgDz7p",
        "outputId": "36ccdc01-77c8-4517-fd88-afe7bb3eda19"
      },
      "source": [
        "transfers_df.League_from.nunique()"
      ],
      "execution_count": null,
      "outputs": [
        {
          "output_type": "execute_result",
          "data": {
            "text/plain": [
              "118"
            ]
          },
          "metadata": {},
          "execution_count": 22
        }
      ]
    },
    {
      "cell_type": "code",
      "metadata": {
        "colab": {
          "base_uri": "https://localhost:8080/"
        },
        "id": "pFTZ10jCOUEB",
        "outputId": "4ad54101-6b13-49cd-ca4c-fe973d455d3d"
      },
      "source": [
        "top_league = transfers_df.League_from.value_counts().head(20)\n",
        "top_league"
      ],
      "execution_count": null,
      "outputs": [
        {
          "output_type": "execute_result",
          "data": {
            "text/plain": [
              "Premier League        608\n",
              "Serie A               602\n",
              "Ligue 1               428\n",
              "LaLiga                418\n",
              "1.Bundesliga          265\n",
              "Série A               199\n",
              "Championship          197\n",
              "Eredivisie            190\n",
              "Liga NOS              178\n",
              "Premier Liga          169\n",
              "Super League          108\n",
              "Serie B               100\n",
              "Süper Lig             100\n",
              "Jupiler Pro League     91\n",
              " Brazil                89\n",
              "Torneo Final           84\n",
              " Argentina             66\n",
              "LaLiga2                59\n",
              "First Division         58\n",
              "Ligue 2                47\n",
              "Name: League_from, dtype: int64"
            ]
          },
          "metadata": {},
          "execution_count": 23
        }
      ]
    },
    {
      "cell_type": "code",
      "metadata": {
        "colab": {
          "base_uri": "https://localhost:8080/",
          "height": 470
        },
        "id": "Fq-kKesOPEws",
        "outputId": "95fc2a82-ef52-4348-833e-a5fac2066833"
      },
      "source": [
        "plt.figure(figsize=(12,6))\n",
        "plt.xticks(rotation=75)\n",
        "plt.title('Leagues where players are bought from the most')\n",
        "sns.barplot(x=top_league.index, y=top_league);"
      ],
      "execution_count": null,
      "outputs": [
        {
          "output_type": "display_data",
          "data": {
            "image/png": "[encoded data removed]",
            "text/plain": [
              "<Figure size 864x432 with 1 Axes>"
            ]
          },
          "metadata": {
            "needs_background": "light"
          }
        }
      ]
    },
    {
      "cell_type": "markdown",
      "metadata": {
        "id": "VAfJzCEzQV_z"
      },
      "source": [
        "To which leagues are players sold to the most?"
      ]
    },
    {
      "cell_type": "code",
      "metadata": {
        "colab": {
          "base_uri": "https://localhost:8080/"
        },
        "id": "3tvSVxUNQb8H",
        "outputId": "87b3413f-2090-4b55-9c5b-667f56d5e40b"
      },
      "source": [
        "transfers_df.League_to.nunique()"
      ],
      "execution_count": null,
      "outputs": [
        {
          "output_type": "execute_result",
          "data": {
            "text/plain": [
              "65"
            ]
          },
          "metadata": {},
          "execution_count": 25
        }
      ]
    },
    {
      "cell_type": "code",
      "metadata": {
        "colab": {
          "base_uri": "https://localhost:8080/"
        },
        "id": "gmS3aYdTQn62",
        "outputId": "e9d5b8e5-c776-4906-e9bf-6cf9ce12bdf5"
      },
      "source": [
        "buying_league = transfers_df.League_to.value_counts().head(20)\n",
        "buying_league"
      ],
      "execution_count": null,
      "outputs": [
        {
          "output_type": "execute_result",
          "data": {
            "text/plain": [
              "Premier League        1256\n",
              "Serie A                739\n",
              "LaLiga                 525\n",
              "1.Bundesliga           422\n",
              "Ligue 1                397\n",
              "Premier Liga           328\n",
              "Süper Lig              143\n",
              "Liga NOS               127\n",
              "Super League           122\n",
              "Eredivisie             108\n",
              "Championship            72\n",
              "Série A                 49\n",
              "Liga MX Clausura        30\n",
              "Jupiler Pro League      27\n",
              "Serie B                 26\n",
              " England                24\n",
              "First Division          23\n",
              " Scotland               20\n",
              "Premiership             20\n",
              "UAE Gulf League         20\n",
              "Name: League_to, dtype: int64"
            ]
          },
          "metadata": {},
          "execution_count": 26
        }
      ]
    },
    {
      "cell_type": "code",
      "metadata": {
        "colab": {
          "base_uri": "https://localhost:8080/",
          "height": 470
        },
        "id": "CBeUD_ZvQ82G",
        "outputId": "2db3d3d5-a549-4077-e0ba-82f542f2eca7"
      },
      "source": [
        "plt.figure(figsize=(12,6))\n",
        "plt.xticks(rotation=75)\n",
        "plt.title('Leagues where players are sold to the most')\n",
        "sns.barplot(x=buying_league.index, y=buying_league);"
      ],
      "execution_count": null,
      "outputs": [
        {
          "output_type": "display_data",
          "data": {
            "image/png": "[encoded data removed]",
            "text/plain": [
              "<Figure size 864x432 with 1 Axes>"
            ]
          },
          "metadata": {
            "needs_background": "light"
          }
        }
      ]
    },
    {
      "cell_type": "markdown",
      "metadata": {
        "id": "CF8SrC1pRSpg"
      },
      "source": [
        "Whats the age group of players bought or sold?\n"
      ]
    },
    {
      "cell_type": "code",
      "metadata": {
        "colab": {
          "base_uri": "https://localhost:8080/",
          "height": 476
        },
        "id": "6p611cUGVEFO",
        "outputId": "de55b63b-b148-4b96-f0c0-61e3775df79d"
      },
      "source": [
        "plt.figure(figsize = (12, 6))\n",
        "plt.xticks(rotation = 75)\n",
        "plt.title(\"Distribution of Ages\", fontsize = 20)\n",
        "plt.ylabel(\"Count\", fontsize = 16)\n",
        "plt.xlabel(\"Age\", fontsize= 16)\n",
        "sns.countplot(sorted(transfers_df[\"Age\"]));"
      ],
      "execution_count": null,
      "outputs": [
        {
          "output_type": "stream",
          "name": "stderr",
          "text": [
            "/usr/local/lib/python3.7/dist-packages/seaborn/_decorators.py:43: FutureWarning: Pass the following variable as a keyword arg: x. From version 0.12, the only valid positional argument will be `data`, and passing other arguments without an explicit keyword will result in an error or misinterpretation.\n",
            "  FutureWarning\n"
          ]
        },
        {
          "output_type": "display_data",
          "data": {
            "image/png": "[encoded data removed]",
            "text/plain": [
              "<Figure size 864x432 with 1 Axes>"
            ]
          },
          "metadata": {
            "needs_background": "light"
          }
        }
      ]
    },
    {
      "cell_type": "markdown",
      "metadata": {
        "id": "TgisBLnTT4aO"
      },
      "source": [
        "Which season had the highest transfer fee?"
      ]
    },
    {
      "cell_type": "code",
      "metadata": {
        "id": "2x1OGRqPLptN",
        "colab": {
          "base_uri": "https://localhost:8080/",
          "height": 478
        },
        "outputId": "5fcdcecd-d2ce-47a7-f69f-d30a8497bc1b"
      },
      "source": [
        "plt.figure(figsize=(12,6))\n",
        "plt.xticks(rotation=75)\n",
        "plt.bar( transfers_df.Season, transfers_df.Transfer_fee);\n",
        "plt.title(\"Transfer Fees Per season\", fontsize = 20)\n",
        "plt.xlabel('Season', fontsize = 16)\n",
        "plt.ylabel('Transfer Fee', fontsize = 16)\n"
      ],
      "execution_count": null,
      "outputs": [
        {
          "output_type": "execute_result",
          "data": {
            "text/plain": [
              "Text(0, 0.5, 'Transfer Fee')"
            ]
          },
          "metadata": {},
          "execution_count": 40
        },
        {
          "output_type": "display_data",
          "data": {
            "image/png": "[encoded data removed]",
            "text/plain": [
              "<Figure size 864x432 with 1 Axes>"
            ]
          },
          "metadata": {
            "needs_background": "light"
          }
        }
      ]
    },
    {
      "cell_type": "markdown",
      "metadata": {
        "id": "3epmZQPLdrOP"
      },
      "source": [
        "What is the Most Purchased position played by players?"
      ]
    },
    {
      "cell_type": "code",
      "metadata": {
        "id": "MVZ-aaqedvRB",
        "colab": {
          "base_uri": "https://localhost:8080/"
        },
        "outputId": "6869f27f-16c0-4e1e-eaf9-402f1164a53f"
      },
      "source": [
        "most_pos = transfers_df.Position.value_counts().head(10)\n",
        "most_pos"
      ],
      "execution_count": null,
      "outputs": [
        {
          "output_type": "execute_result",
          "data": {
            "text/plain": [
              "Centre-Forward        1218\n",
              "Centre-Back            714\n",
              "Central Midfield       487\n",
              "Attacking Midfield     426\n",
              "Defensive Midfield     411\n",
              "Right Winger           305\n",
              "Left Winger            267\n",
              "Left-Back              225\n",
              "Right-Back             181\n",
              "Goalkeeper             180\n",
              "Name: Position, dtype: int64"
            ]
          },
          "metadata": {},
          "execution_count": 30
        }
      ]
    },
    {
      "cell_type": "code",
      "metadata": {
        "colab": {
          "base_uri": "https://localhost:8080/",
          "height": 366
        },
        "id": "_BtWoKsWWfxE",
        "outputId": "f5b2dd15-0b77-41ff-c813-c28d0172acb5"
      },
      "source": [
        "plt.figure(figsize=(6,12))\n",
        "plt.pie(most_pos, labels=most_pos.index );"
      ],
      "execution_count": null,
      "outputs": [
        {
          "output_type": "display_data",
          "data": {
            "image/png": "[encoded data removed]",
            "text/plain": [
              "<Figure size 432x864 with 1 Axes>"
            ]
          },
          "metadata": {}
        }
      ]
    },
    {
      "cell_type": "markdown",
      "metadata": {
        "id": "6790YjMLnFW6"
      },
      "source": [
        "Which clubs have bought the most players in transfers?"
      ]
    },
    {
      "cell_type": "code",
      "metadata": {
        "colab": {
          "base_uri": "https://localhost:8080/"
        },
        "id": "BHKvbJ4ToBCX",
        "outputId": "62379f7c-110e-4e13-bffe-302a6bf3d231"
      },
      "source": [
        "most_spending_teams = transfers_df.Team_to.value_counts().head(20)\n",
        "most_spending_teams"
      ],
      "execution_count": null,
      "outputs": [
        {
          "output_type": "execute_result",
          "data": {
            "text/plain": [
              "Inter              97\n",
              "Chelsea            96\n",
              "Man City           94\n",
              "Spurs              93\n",
              "Juventus           87\n",
              "Liverpool          85\n",
              "AS Roma            77\n",
              "Real Madrid        75\n",
              "FC Barcelona       70\n",
              "Atlético Madrid    69\n",
              "AC Milan           68\n",
              "Paris SG           66\n",
              "Man Utd            65\n",
              "Everton            63\n",
              "Arsenal            61\n",
              "Newcastle          61\n",
              "Monaco             61\n",
              "Marseille          60\n",
              "FC Porto           60\n",
              "SSC Napoli         58\n",
              "Name: Team_to, dtype: int64"
            ]
          },
          "metadata": {},
          "execution_count": 72
        }
      ]
    },
    {
      "cell_type": "markdown",
      "metadata": {
        "id": "vC3P8TxcZRjb"
      },
      "source": [
        "Who is the most expensive player in the whole world?"
      ]
    },
    {
      "cell_type": "code",
      "metadata": {
        "colab": {
          "base_uri": "https://localhost:8080/"
        },
        "id": "gFdug4CKaGER",
        "outputId": "2991d52e-1c0c-4e46-87df-3aa86abdb970"
      },
      "source": [
        "max1 = max(transfers_df['Transfer_fee']) \n",
        "most_exp = transfers_df.Name[transfers_df.Transfer_fee == max1]\n",
        "most_exp"
      ],
      "execution_count": null,
      "outputs": [
        {
          "output_type": "execute_result",
          "data": {
            "text/plain": [
              "4211    Neymar\n",
              "Name: Name, dtype: object"
            ]
          },
          "metadata": {},
          "execution_count": 57
        }
      ]
    },
    {
      "cell_type": "markdown",
      "metadata": {
        "id": "SP9pRymxhETg"
      },
      "source": [
        "who is cheapest player ever sold?"
      ]
    },
    {
      "cell_type": "code",
      "metadata": {
        "colab": {
          "base_uri": "https://localhost:8080/"
        },
        "id": "85S_oQE-hLDN",
        "outputId": "4a6266e1-e710-42f7-cbbc-2aac3324dfff"
      },
      "source": [
        "min1 = min(transfers_df['Transfer_fee']) \n",
        "most_chp = transfers_df.Name[transfers_df.Transfer_fee == min1]\n",
        "most_chp"
      ],
      "execution_count": null,
      "outputs": [
        {
          "output_type": "execute_result",
          "data": {
            "text/plain": [
              "741    Rémo Meyer\n",
              "Name: Name, dtype: object"
            ]
          },
          "metadata": {},
          "execution_count": 58
        }
      ]
    },
    {
      "cell_type": "markdown",
      "metadata": {
        "id": "Q6nyqoQqgyDo"
      },
      "source": [
        "who is the most expensive player in premier league?\n"
      ]
    },
    {
      "cell_type": "code",
      "metadata": {
        "id": "VOrsYkxSlZwx"
      },
      "source": [
        "epl_df = transfers_df[transfers_df.League_to=='Premier League']"
      ],
      "execution_count": null,
      "outputs": []
    },
    {
      "cell_type": "code",
      "metadata": {
        "colab": {
          "base_uri": "https://localhost:8080/"
        },
        "id": "4zXl3v8mg7Gx",
        "outputId": "13ff6ce1-b0ab-4d3e-d1d8-d55bc975b2f9"
      },
      "source": [
        "epl_max = max(epl_df['Transfer_fee']) \n",
        "most_exp_epl = epl_df.Name[epl_df.Transfer_fee == epl_max]\n",
        "most_exp_epl"
      ],
      "execution_count": null,
      "outputs": [
        {
          "output_type": "execute_result",
          "data": {
            "text/plain": [
              "3961    Paul Pogba\n",
              "Name: Name, dtype: object"
            ]
          },
          "metadata": {},
          "execution_count": 70
        }
      ]
    },
    {
      "cell_type": "markdown",
      "metadata": {
        "id": "jnQocfIEg7uv"
      },
      "source": [
        "Who is the most expensive player bought by Real Madrid?"
      ]
    },
    {
      "cell_type": "code",
      "metadata": {
        "id": "RHNmI7vdiqWq"
      },
      "source": [
        "madrid_df = transfers_df[transfers_df.Team_to=='Real Madrid']"
      ],
      "execution_count": null,
      "outputs": []
    },
    {
      "cell_type": "code",
      "metadata": {
        "colab": {
          "base_uri": "https://localhost:8080/"
        },
        "id": "nHteem0Xkubu",
        "outputId": "67f0cc35-2fa3-4db8-fc23-dd24dc07a8ef"
      },
      "source": [
        "madrid_max = max(madrid_df['Transfer_fee']) \n",
        "most_exp_madrid = madrid_df.Name[madrid_df.Transfer_fee == madrid_max]\n",
        "most_exp_madrid"
      ],
      "execution_count": null,
      "outputs": [
        {
          "output_type": "execute_result",
          "data": {
            "text/plain": [
              "3217    Gareth Bale\n",
              "Name: Name, dtype: object"
            ]
          },
          "metadata": {},
          "execution_count": 68
        }
      ]
    }
  ]
}